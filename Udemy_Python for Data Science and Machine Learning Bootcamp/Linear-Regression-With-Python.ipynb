{
 "cells": [
  {
   "cell_type": "markdown",
   "metadata": {},
   "source": [
    "# Linear Regression with Python\n",
    "This notebook is practice with the concepts learned in the Udemy module of the same name.\n",
    "\n",
    "## Goals\n",
    "- Practice using the libraries\n",
    "- Understand what to do with data once you have it\n",
    "  - Practice the process of playing with data\n",
    "  - Understand how to use your data\n",
    "  - Make predictions\n",
    "- Be able to communicate the concepts learned in a dev diary\n",
    "\n",
    "## Tasks\n",
    "- [ ] Find interesting data\n",
    "- [ ] Study data and consider intersting anaylzations that you can visualize\n",
    "- [ ] Apply a linear regresssion model to it\n",
    "- [ ] Make predictions\n",
    "- [ ] Visualize things with graphs and charts\n",
    "- [ ] Do some additional reading to understand everything"
   ]
  }
 ],
 "metadata": {
  "language_info": {
   "name": "python"
  }
 },
 "nbformat": 4,
 "nbformat_minor": 2
}
