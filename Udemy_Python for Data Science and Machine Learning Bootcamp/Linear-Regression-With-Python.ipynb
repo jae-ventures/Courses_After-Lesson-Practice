{
 "cells": [
  {
   "cell_type": "markdown",
   "metadata": {},
   "source": [
    "# Linear Regression with Python\n",
    "This notebook is practice with the concepts learned in the Udemy module of the same name.\n",
    "\n",
    "## Goals\n",
    "- Practice using the libraries\n",
    "- Understand what to do with data once you have it\n",
    "  - Practice the process of playing with data\n",
    "  - Understand how to use your data\n",
    "  - Make predictions"
   ]
  }
 ],
 "metadata": {
  "language_info": {
   "name": "python"
  }
 },
 "nbformat": 4,
 "nbformat_minor": 2
}
