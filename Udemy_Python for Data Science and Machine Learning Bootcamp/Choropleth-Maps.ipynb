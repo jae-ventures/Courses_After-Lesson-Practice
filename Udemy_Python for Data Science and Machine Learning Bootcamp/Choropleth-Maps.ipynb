{
 "cells": [
  {
   "cell_type": "markdown",
   "metadata": {},
   "source": [
    "# Choropleth Maps\n",
    "Let's practice making a map or two!\n",
    "\n",
    "We'll be using plotly for this."
   ]
  },
  {
   "cell_type": "code",
   "execution_count": null,
   "metadata": {},
   "outputs": [],
   "source": []
  }
 ],
 "metadata": {
  "language_info": {
   "name": "python"
  }
 },
 "nbformat": 4,
 "nbformat_minor": 2
}
