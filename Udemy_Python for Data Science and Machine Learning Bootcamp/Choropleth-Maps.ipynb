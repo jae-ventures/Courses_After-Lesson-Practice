{
 "cells": [
  {
   "cell_type": "markdown",
   "metadata": {},
   "source": [
    "# Choropleth Maps\n",
    "Let's practice making a map or two!\n",
    "\n",
    "We'll be using plotly for this.\n",
    "\n",
    "## Electric Vehicles and Charging\n",
    "Make a map relevant to electric vehicles and charging networks."
   ]
  },
  {
   "cell_type": "code",
   "execution_count": null,
   "metadata": {},
   "outputs": [],
   "source": []
  }
 ],
 "metadata": {
  "language_info": {
   "name": "python"
  }
 },
 "nbformat": 4,
 "nbformat_minor": 2
}
